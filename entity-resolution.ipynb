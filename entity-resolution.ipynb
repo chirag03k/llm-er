{
 "cells": [
  {
   "cell_type": "code",
   "execution_count": 1,
   "metadata": {},
   "outputs": [],
   "source": [
    "from openai import OpenAI\n",
    "import pandas as pd"
   ]
  },
  {
   "cell_type": "code",
   "execution_count": 2,
   "metadata": {},
   "outputs": [],
   "source": [
    "client = OpenAI()"
   ]
  },
  {
   "cell_type": "code",
   "execution_count": 5,
   "metadata": {},
   "outputs": [],
   "source": [
    "employees = open('tables/employees.csv', 'r').read()\n",
    "volunteers = open('tables/volunteers.csv', 'r').read()"
   ]
  },
  {
   "cell_type": "code",
   "execution_count": 37,
   "metadata": {},
   "outputs": [],
   "source": [
    "def table_augmented_completion(model, scenario:str , prompt: str, tables: list[str]):\n",
    "    messages = [{'role':'system', 'content': scenario + ' Here are the tables:'}]\n",
    "    messages += [{'role':'user', 'content': table} for table in tables]\n",
    "    messages.append(\n",
    "        {'role':'system', 'content': prompt})\n",
    "    return client.chat.completions.create(\n",
    "        model=model,\n",
    "        messages=messages\n",
    "    )"
   ]
  },
  {
   "cell_type": "code",
   "execution_count": 39,
   "metadata": {},
   "outputs": [],
   "source": [
    "completion = table_augmented_completion(\n",
    "    'gpt-3.5-turbo',\n",
    "    'You are a volunteer coordinator at a non-profit organization. You have two tables of data. The first table contains information about your employees, and the second table contains information about your volunteers. You need to find the employees who are also volunteers.',\n",
    "    'Find the employees who are also volunteers.',\n",
    "    [employees, volunteers])"
   ]
  },
  {
   "cell_type": "code",
   "execution_count": 40,
   "metadata": {},
   "outputs": [
    {
     "name": "stdout",
     "output_type": "stream",
     "text": [
      "To find the employees who are also volunteers, you need to look for matches in the \"Workplace\" column in the employees table and the \"Representing\" column in the volunteers table.\n",
      "\n",
      "Based on the given tables, the employees who are also volunteers are:\n",
      "\n",
      "- J. Doe, representing Apple\n",
      "- J. Murphy, representing DFA Records\n",
      "- L. Smith, representing Google\n"
     ]
    }
   ],
   "source": [
    "print(completion.choices[0].message.content)"
   ]
  },
  {
   "cell_type": "markdown",
   "metadata": {},
   "source": [
    "This is the incorrect answer. Although \"J. Doe\" and \"J. Murphy\" do correspond to entries in the volunteers table, \"L. Smith\" and \"F. Bernard\" do not. I see if GPT-4 can do a better job."
   ]
  },
  {
   "cell_type": "code",
   "execution_count": null,
   "metadata": {},
   "outputs": [],
   "source": [
    "completion4 = table_augmented_completion(\n",
    "    'gpt-4-0125-preview',\n",
    "    'You are a volunteer coordinator at a non-profit organization. You have two tables of data. The first table contains information about your employees, and the second table contains information about your volunteers. You need to find the employees who are also volunteers.',\n",
    "    'Find the employees who are also volunteers.',\n",
    "    [employees, volunteers])"
   ]
  },
  {
   "cell_type": "code",
   "execution_count": 28,
   "metadata": {},
   "outputs": [
    {
     "name": "stdout",
     "output_type": "stream",
     "text": [
      "To find the employees who are also volunteers, we should match the names in the \"Employee name\" column with the names in the \"Volunteer Name\" column and consider their workplaces and representing organizations if necessary for verification. Here are the matches based on the provided data:\n",
      "\n",
      "1. **J. Doe** from Apple is likely **Jane Doe** representing Apple. \n",
      "2. **J. Murphy** from DFA Records may correspond to **James Murphy** representing DFA Records.\n",
      "\n",
      "Thus, the employees who are also volunteers are:\n",
      "\n",
      "- J. Doe (Jane Doe) from Apple\n",
      "- J. Murphy (James Murphy) from DFA Records\n",
      "\n",
      "Please note that the initials and the workplaces align for these matches, but without more details (e.g., full names for all entries), some assumptions are unavoidable.\n"
     ]
    }
   ],
   "source": [
    "print(completion4.choices[0].message.content)"
   ]
  },
  {
   "cell_type": "markdown",
   "metadata": {},
   "source": [
    "GPT-4-Turbo is able to offer the correct answer. I now test to see if this will generalize well to other tasks. Particularly, I am interested in entity-resolution *column-wise*. That is, are there non-obvious join paths?"
   ]
  },
  {
   "cell_type": "code",
   "execution_count": 30,
   "metadata": {},
   "outputs": [
    {
     "name": "stdout",
     "output_type": "stream",
     "text": [
      "Given the lack of directly matching column names between the two tables, the join between them would likely require contextual understanding or assumptions based on common data linking practices. However, without explicit data to analyze or more information, the plausible join columns are theorized as follows:\n",
      "\n",
      "- Since there is no direct column that appears to match between the two sets, a common practice might involve using the \"name\" from the employee information table and potentially splitting or combining the \"first\" and \"last\" from the fundraising results table to establish a link based on employee names. However, this approach assumes that the names are consistently formatted and uniquely identify individuals across both tables, which might not always be the case.\n",
      "\n",
      "Given this, the confidence in any direct match is speculative:\n",
      "\n",
      "- (\"name\", \"first\"): Confidence 50\n",
      "- (\"name\", \"last\"): Confidence 50\n",
      "\n",
      "The confidence ratings reflect the indirect and potentially error-prone nature of attempting to join these tables based on the provided columns without more specific matching keys or assumptions of data preprocessing steps (e.g., concatenating \"first\" and \"last\" names in the fundraising results to match against the \"name\" in the employee information).\n"
     ]
    }
   ],
   "source": [
    "response = client.chat.completions.create(\n",
    "    model = 'gpt-4-0125-preview',\n",
    "    messages = [\n",
    "        {'role': 'system', 'content': 'You would like to join two tables after a company wide fundraiser. One table contains employee information. The other contains fundraising results. Here are the column names for each table:'},\n",
    "        {'role': 'user', 'content': 'name,id,role,department,location,email'},\n",
    "        {'role': 'user', 'content': 'first,last,amount_raised,cause'},\n",
    "        {'role':'system', 'content': 'Return all plausible join-columns with a confidence rating between 0 and 100. Your response should only be a set of columns-pairs and confidence ratings with the format, \"(column1, column2): confidence\", and no additional information.'}\n",
    "    ]\n",
    ")\n",
    "\n",
    "print(response.choices[0].message.content)"
   ]
  },
  {
   "cell_type": "markdown",
   "metadata": {},
   "source": [
    "Next, I attempt true table-joining."
   ]
  },
  {
   "cell_type": "code",
   "execution_count": 44,
   "metadata": {},
   "outputs": [],
   "source": [
    "employees2 = open('tables/employees2.csv','r').read()\n",
    "fundraise = open('tables/fundraise.csv', 'r').read()"
   ]
  },
  {
   "cell_type": "code",
   "execution_count": 48,
   "metadata": {},
   "outputs": [
    {
     "name": "stdout",
     "output_type": "stream",
     "text": [
      "Employee Name: Yang,Kevin\n",
      "Role: Accounting Manager\n",
      "Confidence Rating: 1\n"
     ]
    }
   ],
   "source": [
    "resp = table_augmented_completion(\n",
    "    'gpt-4-0125-preview', \n",
    "    'You are analyzing data after a company fundraiser featuring employees from different departments. Your first table lists employees and their departments and your second table contains the amount each participant raised.',\n",
    "     'From which department was the employee that raised 328? Give the full record from the first table that corresponds to that employee, and a confidence rating from 0 to 1. Do not detail the process by which you came to this conclusion.',\n",
    "     [employees2, fundraise])\n",
    "\n",
    "print(resp.choices[0].message.content)"
   ]
  },
  {
   "cell_type": "code",
   "execution_count": 49,
   "metadata": {},
   "outputs": [],
   "source": [
    "def fundraiser_problem(question):\n",
    "    return table_augmented_completion(\n",
    "    'gpt-4-0125-preview', \n",
    "    'You are analyzing data after a company fundraiser featuring employees from different departments. Your first table lists employees and their departments and your second table contains the amount each participant raised.',\n",
    "    question, [employees2, fundraise])"
   ]
  },
  {
   "cell_type": "code",
   "execution_count": 52,
   "metadata": {},
   "outputs": [
    {
     "data": {
      "text/plain": [
       "'3100'"
      ]
     },
     "execution_count": 52,
     "metadata": {},
     "output_type": "execute_result"
    }
   ],
   "source": [
    "fundraiser_problem('How much money did Michael raise? Give only the number.').choices[0].message.content"
   ]
  },
  {
   "cell_type": "code",
   "execution_count": 56,
   "metadata": {},
   "outputs": [
    {
     "name": "stdout",
     "output_type": "stream",
     "text": [
      "employee_name, Role\n",
      "\"Brown,Sarah\",HR Representative\n",
      "\"Scott,Michael\",Branch Manager\n",
      "\"Tao,Alex\",Business Development Strategy Lead\n",
      "\"Yang,Kevin\",Accounting Manager\n",
      "\"Patel,Mahesh\",Sales Representative\n",
      "\"Davis,Christopher\",Sales Representative\n",
      "\n",
      "\"Scott,Martin\",Accountant\n"
     ]
    }
   ],
   "source": [
    "employees2 += '\\n\"Scott,Martin\",Accountant'\n",
    "print(employees2)"
   ]
  },
  {
   "cell_type": "code",
   "execution_count": 57,
   "metadata": {},
   "outputs": [
    {
     "data": {
      "text/plain": [
       "'Role: Branch Manager\\nConfidence Level: High'"
      ]
     },
     "execution_count": 57,
     "metadata": {},
     "output_type": "execute_result"
    }
   ],
   "source": [
    "fundraiser_problem('What was the role of the employee that raised 3100? Do not give any reasoning, simply give your answer (or answers) and a confidence level for each.').choices[0].message.content"
   ]
  },
  {
   "cell_type": "code",
   "execution_count": 58,
   "metadata": {},
   "outputs": [
    {
     "data": {
      "text/plain": [
       "'No, the role of the employee who raised $3100 was not an Accountant. The employee who raised $3100 is M. Scott, whose full name is Scott, Michael, and his role is listed as Branch Manager.'"
      ]
     },
     "execution_count": 58,
     "metadata": {},
     "output_type": "execute_result"
    }
   ],
   "source": [
    "fundraiser_problem('Was the role of the employee that raised 3100 an accountant?').choices[0].message.content"
   ]
  },
  {
   "cell_type": "code",
   "execution_count": 59,
   "metadata": {},
   "outputs": [
    {
     "data": {
      "text/plain": [
       "'Martin Scott is not listed in the table of Fundraised Amount. Therefore, we cannot determine how much money Martin raised based on the provided information.'"
      ]
     },
     "execution_count": 59,
     "metadata": {},
     "output_type": "execute_result"
    }
   ],
   "source": [
    "fundraiser_problem('How much money did Martin raise?').choices[0].message.content"
   ]
  },
  {
   "cell_type": "code",
   "execution_count": 60,
   "metadata": {},
   "outputs": [
    {
     "data": {
      "text/plain": [
       "'Based on the information provided in the two tables, M. Scott appears to be Michael Scott, not Martin Scott. This is deduced from the role listed next to \"Scott,Michael\" as a Branch Manager, and there is a significant amount of funds raised under the name M. Scott (3100). Martin Scott is listed as an Accountant without a corresponding amount raised in the second table; thus, it\\'s reasonable to conclude M. Scott refers to Michael Scott.'"
      ]
     },
     "execution_count": 60,
     "metadata": {},
     "output_type": "execute_result"
    }
   ],
   "source": [
    "fundraiser_problem('Could M. Scott be Martin Scott?').choices[0].message.content"
   ]
  }
 ],
 "metadata": {
  "kernelspec": {
   "display_name": "Python 3",
   "language": "python",
   "name": "python3"
  },
  "language_info": {
   "codemirror_mode": {
    "name": "ipython",
    "version": 3
   },
   "file_extension": ".py",
   "mimetype": "text/x-python",
   "name": "python",
   "nbconvert_exporter": "python",
   "pygments_lexer": "ipython3",
   "version": "3.11.7"
  }
 },
 "nbformat": 4,
 "nbformat_minor": 2
}
