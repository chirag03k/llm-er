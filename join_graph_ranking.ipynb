{
 "cells": [
  {
   "cell_type": "code",
   "execution_count": 22,
   "metadata": {},
   "outputs": [],
   "source": [
    "join_graphs = open('join-graphs.txt', 'r').read()\n",
    "import json"
   ]
  },
  {
   "cell_type": "code",
   "execution_count": 38,
   "metadata": {},
   "outputs": [],
   "source": [
    "import requests\n",
    "\n",
    "def get_completion(url, messages):\n",
    "    result = \"\"\n",
    "    s = requests.Session()\n",
    "    data = {\n",
    "        \"model\": \"tinyllama\",\n",
    "        \"messages\": messages,\n",
    "    }\n",
    "    with s.post(url, data=json.dumps(data), headers=None, stream=False) as resp:\n",
    "        for line in resp.iter_lines():\n",
    "            obj = json.loads(line)\n",
    "            result += obj['message']['content']\n",
    "        return result"
   ]
  },
  {
   "cell_type": "code",
   "execution_count": 36,
   "metadata": {},
   "outputs": [],
   "source": [
    "\n"
   ]
  },
  {
   "cell_type": "code",
   "execution_count": 39,
   "metadata": {},
   "outputs": [
    {
     "data": {
      "text/plain": [
       "\"No, the join paths above don't make sense because they don't link to any specific information that would be available through a school progress report or school profile information in CSV format. The join path between Chiha Public Schools - School Progress Report and Chiha Public Schools - School Profile Information only makes sense if it linked to the website of one of these schools, which is not available for all schools in Chicago Public Schools.\""
      ]
     },
     "execution_count": 39,
     "metadata": {},
     "output_type": "execute_result"
    }
   ],
   "source": [
    "messages = [\n",
    "    {\n",
    "        \"role\": \"user\",\n",
    "        \"content\": \"I want to join two tables. Here are several join paths for these tables. Which ones make sense?\"\n",
    "     },\n",
    "    {\n",
    "        \"role\": \"user\",\n",
    "        \"content\": join_graphs\n",
    "     }\n",
    "]\n",
    "\n",
    "get_completion(llama_url, messages)"
   ]
  },
  {
   "cell_type": "code",
   "execution_count": 43,
   "metadata": {},
   "outputs": [
    {
     "name": "stdout",
     "output_type": "stream",
     "text": [
      "Join Chicago Public Schools - School Progress Reports SY2223.csv.school_name JOIN Chicago Public Schools - School Progress Reports SY2223.csv.school_name\n",
      "Join Chicago Public Schools - School Progress Reports SY2223.csv.school_category JOIN Chicago Public Schools - School Progress Reports SY2223.csv.school_category\n",
      "Join Chicago Public Schools - School Progress Reports SY2223.csv.school_short_name JOIN Chicago Public Schools - School Progress Reports SY2223.csv.school_short_name\n",
      "Join Chicago Public Schools - School Progress Reports SY2223.csv.school_city JOIN Chicago Public Schools - School Progress Reports SY2223.csv.school_city\n",
      "Join Chicago Public Schools - School Progress Reports SY2223.csv.school_long_name JOIN Chicago Public Schools - School Progress Reports SY2223.csv.school_long_name\n",
      "Join Chicago Public Schools - School Progress Reports SY2223.csv.school_website JOIN Chicago Public Schools - School Progress Reports SY2223.csv.school_website\n",
      "Join Chicago Public Schools - School Progress Reports SY2223.csv.school_address JOIN Chicago Public Schools - School Progress Reports SY2223.csv.school_address\n",
      "Join Chicago Public Schools - School Progress Reports SY2223.csv.school_faix JOIN Chicago Public Schools - School Progress Reports SY2223.csv.school_faix\n"
     ]
    }
   ],
   "source": [
    "messages = [\n",
    "    {\n",
    "        \"role\": \"user\",\n",
    "        \"content\": \"\"\"I want to join several tables. \n",
    "        The first one contains school School Locations, the second\n",
    "        contains School Profile Information, and the third contains \n",
    "        School Progress Reports. Here are several join paths \n",
    "        for these tables. They are numbered. Give them a score\n",
    "        from 0 to 100, based on how much sense they make, where 100 is the best.\n",
    "        Use the a format where you list the join path number, a colon, and the score. Then\n",
    "        provide a short explanation. Here are the join paths:\n",
    "        \"\"\"\n",
    "     },\n",
    "    {\n",
    "        \"role\": \"user\",\n",
    "        \"content\": join_graphs\n",
    "     }\n",
    "]\n",
    "\n",
    "print(get_completion(llama_url, messages))"
   ]
  },
  {
   "cell_type": "code",
   "execution_count": 44,
   "metadata": {},
   "outputs": [
    {
     "name": "stdout",
     "output_type": "stream",
     "text": [
      "0, ChiCAGO Public Schools - School Progress Report, SY2223.csv\n",
      "1, ChiCAGO Public Schools - School Profile Information, SY2223.csv.CSP_School_Profile JOIN ChiCAGO Public Schools - School Progress Report, SY2223.csv.CSP_School_Profile\n",
      "2, ChiCAGO Public Schools - School Profile Information, SY2223.csv.CPS_School_Profile JOIN ChiCAGO Public Schools - School Progress Report, SY2223.csv.CPS_School_Profile\n",
      "3, ChiCAGO Public Schools - School Profile Information, SY2223.csv.Phone JOIN ChiCAGO Public Schools - School Progress Report, SY2223.csv.Phone\n",
      "4, ChiCAGO Public Schools - School Profile Information, SY2223.csv.Short_Name JOIN ChiCAGO Public Schools - School Progress Report, SY2223.csv.Short_Name\n",
      "5, ChiCAGO Public Schools - School Profile Information, SY2223.csv.City JOIN ChiCAGO Public Schools - School Progress Report, SY2223.csv.City\n",
      "6, ChiCAGO Public Schools - School Profile Information, SY2223.csv.Long_Name JOIN ChiCAGO Public Schools - School Progress Report, SY2223.csv.Long_Name\n",
      "7, ChiCAGO Public Schools - School Profile Information, SY2223.csv.Website JOIN ChiCAGO Public Schools - School Progress Report, SY2223.csv.Website\n",
      "8, ChiCAGO Public Schools - School Profile Information, SY2223.csv.Address JOIN ChiCAGO Public Schools - School Progress Report, SY2223.csv.Address\n",
      "9, ChiCAGO Public Schools - School Profile Information, SY2223.csv.FAX JOIN ChiCAGO Public Schools - School Progress Report, SY2223.csv.FAX\n",
      "10, ChiCAGO Public Schools - School Profile Information, SY2223.csv\n"
     ]
    }
   ],
   "source": [
    "messag_template = [\n",
    "    {\n",
    "        \"role\": \"user\",\n",
    "        \"content\": \"\"\"I would like to join a table called School Locations with a table\n",
    "        called School Profile Information. How useful is it to join on the column \n",
    "        `primary_category`? Give a score from 1 to 100 on the usefulness, and no other \n",
    "        information.\n",
    "        \"\"\"\n",
    "     }\n",
    "]\n",
    "\n",
    "print(get_completion(llama_url, messages))"
   ]
  },
  {
   "cell_type": "code",
   "execution_count": null,
   "metadata": {},
   "outputs": [],
   "source": [
    "from openai import OpenAI\n",
    "client = OpenAI()\n",
    "\n",
    "response = client.chat.completions.create(\n",
    "    model='gpt-4-0125-preview',\n",
    "    messages=[\n",
    "        { 'role': 'system', 'content': 'I want to join two tables. Here are several join paths for these tables. Which ones make sense?' },\n",
    "        { 'role': 'user', 'content': join_graphs }\n",
    "    ])\n",
    "                                    "
   ]
  },
  {
   "cell_type": "code",
   "execution_count": 31,
   "metadata": {},
   "outputs": [
    {
     "name": "stdout",
     "output_type": "stream",
     "text": [
      "When joining tables, especially those that contain related but distinct pieces of information about the same entities (in this case, schools within the Chicago Public Schools system for the school year 2022-2023), the most logical join paths usually involve unique identifiers or attributes that inherently represent the same aspect across both tables. Here's an evaluation of the provided join paths with regards to their suitability:\n",
      "\n",
      "1. **`cps_school_profile JOIN cps_school_profile`**: If \"cps_school_profile\" acts as a unique identifier for each school (which it sounds like it might), this would be a logical and strong join path. Unique identifiers ensure that each row from one table matches precisely one row in another table, based on the school being referred to.\n",
      "\n",
      "2. **`primary_category JOIN primary_category`**: This could make sense if the intention is to compare or combine information about schools belonging to the same primary category across both reports. However, this might not be a unique join path because multiple schools can share the same primary category. It's useful for aggregating data but not for one-to-one school level detail.\n",
      "\n",
      "3. **`phone JOIN phone`**: This is plausible if the phone number is unique to each school. However, joining on phone numbers can be risky since formatting issues or updates in contact information may cause mismatches. This wouldn't typically be a first choice for joining educational institution data.\n",
      "\n",
      "4. **`short_name JOIN short_name`**: Short names, if consistently allocated, can be an effective way to join records pertaining to the same school. However, like phone numbers, inconsistencies in naming conventions could result in inaccuracies.\n",
      "\n",
      "5. **`city JOIN city`**: This doesn’t make much sense for joining information about specific schools, as many schools are located within the same city, especially in a large district like Chicago Public Schools. This would create a many-to-many join which is not useful for merging school-specific data.\n",
      "\n",
      "6. **`long_name JOIN long_name`**: If the long name is unique for each school, this would be a good join path. However, the likelihood of naming inconsistencies makes this slightly less reliable than unique identifiers specifically designed for database relations.\n",
      "\n",
      "7. **`website JOIN website`**: Joining on a website could work if each school has a unique website. However, this assumes that the website addresses are recorded consistently and accurately in both datasets.\n",
      "\n",
      "8. **`address JOIN address`**: Similar to phone numbers, this could technically work if the addresses are unique and consistently formatted. Realistically, though, there's a high risk of mismatches due to variations in address formatting.\n",
      "\n",
      "9. **`fax JOIN fax`**: Given the declining use of fax machines and similar issues as phone numbers (e.g., formatting), this would not be a preferred join path.\n",
      "\n",
      "10. **`state JOIN state`**: Since all schools are presumably in the same state (Illinois, given that this is the Chicago Public Schools system), this join would not be useful for matching specific schools between tables.\n",
      "\n",
      "Joining on **attributes like unique school identifiers (`cps_school_profile`)** is usually the most reliable method, ensuring accuracy in merging data from different tables. Attributes like **`primary_category`, `short_name`, and `long_name`** could potentially be used but may require additional data cleaning or validation steps to ensure accuracy. Joining on attributes like **`city`, `state`, `fax`, `phone`, `address`, or `website`** is significantly less reliable for accurately matching specific entities across datasets.\n"
     ]
    }
   ],
   "source": [
    "print (response.choices[0].message.content)"
   ]
  },
  {
   "cell_type": "code",
   "execution_count": null,
   "metadata": {},
   "outputs": [],
   "source": []
  }
 ],
 "metadata": {
  "kernelspec": {
   "display_name": "Python 3",
   "language": "python",
   "name": "python3"
  },
  "language_info": {
   "codemirror_mode": {
    "name": "ipython",
    "version": 3
   },
   "file_extension": ".py",
   "mimetype": "text/x-python",
   "name": "python",
   "nbconvert_exporter": "python",
   "pygments_lexer": "ipython3",
   "version": "3.11.7"
  }
 },
 "nbformat": 4,
 "nbformat_minor": 2
}
