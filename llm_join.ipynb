{
 "cells": [
  {
   "cell_type": "code",
   "execution_count": 1,
   "metadata": {},
   "outputs": [],
   "source": [
    "import json\n",
    "import requests as req"
   ]
  },
  {
   "cell_type": "markdown",
   "metadata": {},
   "source": [
    "# Utility stuff"
   ]
  },
  {
   "cell_type": "code",
   "execution_count": 3,
   "metadata": {},
   "outputs": [],
   "source": [
    "url = 'http://localhost:11434/api/chat'\n",
    "\n",
    "def get_completion(url, messages):\n",
    "    result = \"\"\n",
    "    s = req.Session()\n",
    "    headers = {\n",
    "        \"model\": \"tinyllama\",\n",
    "        \"messages\": messages,\n",
    "    }\n",
    "    with s.post(url, data=json.dumps(headers), headers=None, stream=False) as resp:\n",
    "        for line in resp.iter_lines():\n",
    "            obj = json.loads(line)\n",
    "            result += obj['message']['content']\n",
    "        return result"
   ]
  },
  {
   "cell_type": "code",
   "execution_count": null,
   "metadata": {},
   "outputs": [],
   "source": []
  }
 ],
 "metadata": {
  "kernelspec": {
   "display_name": "venv",
   "language": "python",
   "name": "python3"
  },
  "language_info": {
   "codemirror_mode": {
    "name": "ipython",
    "version": 3
   },
   "file_extension": ".py",
   "mimetype": "text/x-python",
   "name": "python",
   "nbconvert_exporter": "python",
   "pygments_lexer": "ipython3",
   "version": "3.11.7"
  }
 },
 "nbformat": 4,
 "nbformat_minor": 2
}
