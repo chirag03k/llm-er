{
 "cells": [
  {
   "cell_type": "code",
   "execution_count": 24,
   "metadata": {},
   "outputs": [],
   "source": [
    "import requests as req \n",
    "import json"
   ]
  },
  {
   "cell_type": "code",
   "execution_count": 25,
   "metadata": {},
   "outputs": [],
   "source": [
    "url = 'http://localhost:11434/api/chat'\n",
    "\n",
    "def get_completion(url, messages):\n",
    "    result = \"\"\n",
    "    s = req.Session()\n",
    "    data = {\n",
    "        \"model\": \"tinyllama\",\n",
    "        \"messages\": messages,\n",
    "        \"stream\" : False\n",
    "    }\n",
    "    with s.post(url, data=json.dumps(data), headers=None, stream=False) as resp:\n",
    "        if resp.status_code != 200:\n",
    "            raise Exception(f\"Failed to get completion: {resp.status_code}\")\n",
    "        else: \n",
    "            return resp.json() \n"
   ]
  },
  {
   "cell_type": "markdown",
   "metadata": {},
   "source": [
    "### Sensible Column Match\n",
    "\n",
    "Using the LLM to test whether the example column is a sensible match with the given existing column"
   ]
  },
  {
   "cell_type": "code",
   "execution_count": 26,
   "metadata": {},
   "outputs": [],
   "source": [
    "class ColumnProfile:\n",
    "    def __init__(self, col_id, table_name, name, data_type, total_values, unique_values, non_empty_values):\n",
    "        self.id = col_id\n",
    "        self.table_name = table_name\n",
    "        self.name = name\n",
    "        self.data_type = data_type\n",
    "        self.total_values = total_values\n",
    "        self.unique_values = unique_values\n",
    "        self.non_empty_values = non_empty_values\n",
    "\n",
    "    def from_json(json):\n",
    "        return ColumnProfile(json['id'], json['sourceName'], json['columnName'], json['dataType'], json['totalValues'], json['uniqueValues'], json['nonEmptyValues'])\n",
    "    \n",
    "class ExampleColumn:\n",
    "    def __init__(self, attr: str, examples: list[str]) -> None:\n",
    "        self.attr = attr\n",
    "        self.examples = examples"
   ]
  },
  {
   "cell_type": "code",
   "execution_count": 27,
   "metadata": {},
   "outputs": [],
   "source": [
    "def score_candidate(example_column, column_profile):\n",
    "    messages = [\n",
    "        {  \n",
    "            \"role\" : \"system\",\n",
    "            \"content\" : \"\"\"You are an assistant whose job is to help a database user find a view that contains relevant information. \n",
    "                    The user has a hypothetical column which illustrates a column they would like their view to contain.\n",
    "                    The user has a column they are considering. Provide a score from 1 to 100 for how likely the column is to be the\n",
    "                    column that the user is looking for. Do not provide other reasoning.\"\"\"\n",
    "        },\n",
    "        {\n",
    "            \"role\" : \"user\", \n",
    "            \"content\" : \"Example, hypothetical column \" + example_column.attr + \".\"\n",
    "        },\n",
    "        {   \n",
    "            \"role\" : \"user\",\n",
    "            \"content\" : \"The actual database column is in the table \" + column_profile.table_name + \" and is called \" + column_profile.name + \".\"\n",
    "        }, \n",
    "        {\n",
    "            \"role\" : \"user\",\n",
    "            \"content\" : \"The database column contains \" + str(column_profile.total_values) + \" values, \" + str(column_profile.unique_values) + \" of which are unique, and \" + str(column_profile.non_empty_values) + \" of which are non-empty.\"\n",
    "        },\n",
    "        {\n",
    "            \"role\" : \"user\",\n",
    "            \"content\" : \"The database column is of type \" + column_profile.data_type + \".\"\n",
    "        },\n",
    "        {\n",
    "            \"role\" : \"system\",\n",
    "            \"content\" : \"Give this column a score from 1 to 100 \"\n",
    "        }\n",
    "    ]\n",
    "\n",
    "    completion = get_completion(url, messages)\n",
    "    return completion['message']['content']"
   ]
  },
  {
   "cell_type": "code",
   "execution_count": 28,
   "metadata": {},
   "outputs": [
    {
     "name": "stdout",
     "output_type": "stream",
     "text": [
      "Here's an example for the Hypothetical Column:\n",
      "\n",
      "For Hypothetical Column, address column contains 647 unique values and 647 non-empty values. Score is given by the following formula:\n",
      "\n",
      "Score = (Number of Unique Values / Number of Non-Empty Values) x 100\n"
     ]
    }
   ],
   "source": [
    "with open('column_profile.json') as f:\n",
    "    candidate = ColumnProfile.from_json(json.load(f))\n",
    "\n",
    "example = ExampleColumn(\"address\", [\"772 Fort Worth Ave\", \"389 E 48th St\"])\n",
    "\n",
    "print(score_candidate(example, candidate))"
   ]
  },
  {
   "cell_type": "code",
   "execution_count": 35,
   "metadata": {},
   "outputs": [],
   "source": [
    "def score_candidate_reduced(example_column, column_profile):\n",
    "    messages = [\n",
    "        {  \n",
    "            \"role\" : \"user\",\n",
    "            \"content\" : f\"\"\"I am looking at a database for a column that contains information of type {example_column.attr}.\"\"\"\n",
    "        },\n",
    "        {   \n",
    "            \"role\" : \"user\",\n",
    "            \"content\" : f\"The table \\\"{column_profile.table_name}\\\" has a column \\\"{column_profile.name}\\\"\" # of type {column_profile.data_type} with  {column_profile.total_values} values, {column_profile.unique_values} of which are unique, and {column_profile.non_empty_values} of which are non-empty.\"\n",
    "        },\n",
    "        {\n",
    "            \"role\" : \"user\",\n",
    "            \"content\" : \"Is this probably the correct column? Respond only with \\'likely\\', \\'unlikely\\', or \\'unsure\\'.\"\n",
    "        }\n",
    "    ]\n",
    "\n",
    "    completion = get_completion(url, messages)\n",
    "    return completion['message']['content']"
   ]
  },
  {
   "cell_type": "code",
   "execution_count": 36,
   "metadata": {},
   "outputs": [
    {
     "name": "stdout",
     "output_type": "stream",
     "text": [
      "Based on the information provided, I'd say that \"address\" is a likely column for the table \"Chicago Public Schools - School Location Data SY2122.csv\". However, as this is not an official database of Chicago Public Schools, it is essential to double-check the specific details before making any data analysis or predictions based on these records. It's always a good practice to verify information in real-time and update your findings as new information becomes available.\n"
     ]
    }
   ],
   "source": [
    "with open('column_profile.json') as f:\n",
    "    candidate = ColumnProfile.from_json(json.load(f))\n",
    "\n",
    "example = ExampleColumn(\"address\", [\"772 Fort Worth Ave\", \"389 E 48th St\"])\n",
    "\n",
    "print(score_candidate_reduced(example, candidate))"
   ]
  },
  {
   "cell_type": "code",
   "execution_count": 37,
   "metadata": {},
   "outputs": [
    {
     "name": "stdout",
     "output_type": "stream",
     "text": [
      "Based on the information provided, it is most likely that the \"address\" column in the Chicago Public Schools - School Location table from SY2122.csv represents a location address. However, as the text provides no contextual information about this data or any other tables within the same database, it's not entirely clear whether this is the correct column for this data. It's best to consult the relevant documentation or ask the original source for further clarification.\n"
     ]
    }
   ],
   "source": [
    "with open('column_profile.json') as f:\n",
    "    candidate = ColumnProfile.from_json(json.load(f))\n",
    "\n",
    "example = ExampleColumn(\"address\", [\"772 Fort Worth Ave\", \"389 E 48th St\"])\n",
    "\n",
    "print(score_candidate_reduced(example, candidate))"
   ]
  },
  {
   "cell_type": "markdown",
   "metadata": {},
   "source": [
    "### Chat GPT "
   ]
  },
  {
   "cell_type": "code",
   "execution_count": 41,
   "metadata": {},
   "outputs": [],
   "source": [
    "from openai import OpenAI\n",
    "client = OpenAI()\n",
    "\n",
    "def get_gpt_completion(messages, max_tokens=1000):\n",
    "    \n",
    "    response = client.chat.completions.create(\n",
    "        model='gpt-4-0125-preview',\n",
    "        messages=messages,\n",
    "        max_tokens=max_tokens)\n",
    "    \n",
    "    return response.choices[0].message.content"
   ]
  },
  {
   "cell_type": "code",
   "execution_count": 39,
   "metadata": {},
   "outputs": [],
   "source": [
    "def score_candidate_gpt(example_column, column_profile):\n",
    "    messages = [\n",
    "        {  \n",
    "            \"role\" : \"user\",\n",
    "            \"content\" : f\"\"\"I am looking at a database for a column that contains information of type {example_column.attr}.\"\"\"\n",
    "        },\n",
    "        {   \n",
    "            \"role\" : \"user\",\n",
    "            \"content\" : f\"The table \\\"{column_profile.table_name}\\\" has a column \\\"{column_profile.name}\\\" of type {column_profile.data_type} with  {column_profile.total_values} values, {column_profile.unique_values} of which are unique, and {column_profile.non_empty_values} of which are non-empty.\"\n",
    "        },\n",
    "        {\n",
    "            \"role\" : \"user\",\n",
    "            \"content\" : \"Could this be the correct column?\"\n",
    "        }\n",
    "    ]\n",
    "    return get_gpt_completion(messages)\n"
   ]
  },
  {
   "cell_type": "code",
   "execution_count": 42,
   "metadata": {},
   "outputs": [
    {
     "name": "stdout",
     "output_type": "stream",
     "text": [
      "Based on the description you provided for the \"Chicago Public Schools - School Locations SY2122.csv\" dataset:\n",
      "\n",
      "- **Column Name**: \"address\"\n",
      "- **Data Type**: T (Typically, \"T\" denotes a text/string data type)\n",
      "- **Total Values**: 647\n",
      "- **Unique Values**: 625\n",
      "- **Non-Empty Values**: 647\n",
      "\n",
      "Given these characteristics, it strongly indicates that this \"address\" column is indeed likely to contain address information for each school listed in the dataset. Addresses are typically unique to each location, which is consistent with the high number of unique values (625 out of 647). Also, the fact that it is of text type ('T') and all entries are non-empty supports the notion that this column accurately represents address information.\n",
      "\n",
      "So yes, this appears to be the correct column for obtaining address information of Chicago Public Schools from the mentioned dataset for the school year 2021-2022.\n"
     ]
    }
   ],
   "source": [
    "with open('column_profile.json') as f:\n",
    "    candidate = ColumnProfile.from_json(json.load(f))\n",
    "\n",
    "example = ExampleColumn(\"address\", [\"772 Fort Worth Ave\", \"389 E 48th St\"])\n",
    "\n",
    "print(score_candidate_gpt(example, candidate))"
   ]
  },
  {
   "cell_type": "markdown",
   "metadata": {},
   "source": [
    "### Incorrect Join Path"
   ]
  },
  {
   "cell_type": "code",
   "execution_count": 43,
   "metadata": {},
   "outputs": [],
   "source": [
    "placement_column = ColumnProfile(2341, \"Chicago Public Schools - School Performance Reports\", \"Placement\", \"text\", 647, 12, 32)\n",
    "enrollment_column = ColumnProfile(23481, \"Chicago Public Schools - School Enrollment\", \"Enrollment\", \"integer\", 647, 622, 3)"
   ]
  },
  {
   "cell_type": "code",
   "execution_count": 45,
   "metadata": {},
   "outputs": [
    {
     "name": "stdout",
     "output_type": "stream",
     "text": [
      "I do not have access to specific information about the chicago public schools - school performance reports table. However, based on common practices in the academic and research community, \"placement\" is a commonly used term for the designation of the attendance area or district within which a particular school operates. In most cases, \"placement\" refers to the geographic location of the school, rather than its grade level or other administrative designation. Therefore, it's possible that this column could contain information about both attendance areas and school districts, but based on the specific context provided, we can safely assume it's likely that it's referring to a combination of both.\n"
     ]
    }
   ],
   "source": [
    "# 'placement' can be conflated with location \n",
    "print(score_candidate_reduced(example, placement_column))"
   ]
  },
  {
   "cell_type": "code",
   "execution_count": 46,
   "metadata": {},
   "outputs": [
    {
     "name": "stdout",
     "output_type": "stream",
     "text": [
      "I do not have access to specific data and cannot make a judgment on whether this column is likely, unlikely, or unsure. However, given that it's from \"chicago public schools - school enrollment,\" we can assume that it contains information about the number of students enrolled in a particular school within a district/school district. This would indicate an 'unlikely' or 'unsure' answer based on the context.\n"
     ]
    }
   ],
   "source": [
    "# enrollment is nothing like address \n",
    "print(score_candidate_reduced(example, enrollment_column))"
   ]
  }
 ],
 "metadata": {
  "kernelspec": {
   "display_name": "venv",
   "language": "python",
   "name": "python3"
  },
  "language_info": {
   "codemirror_mode": {
    "name": "ipython",
    "version": 3
   },
   "file_extension": ".py",
   "mimetype": "text/x-python",
   "name": "python",
   "nbconvert_exporter": "python",
   "pygments_lexer": "ipython3",
   "version": "3.11.7"
  }
 },
 "nbformat": 4,
 "nbformat_minor": 2
}
